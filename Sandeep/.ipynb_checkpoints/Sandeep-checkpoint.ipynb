{
 "cells": [
  {
   "cell_type": "code",
   "execution_count": 1,
   "metadata": {},
   "outputs": [],
   "source": [
    "# Dependencies\n",
    "import random\n",
    "import json\n",
    "import requests\n",
    "import pandas as pd\n",
    "import matplotlib.pyplot as plt\n",
    "import numpy as np\n",
    "import locale\n",
    "from locale import atof\n",
    "import scipy.stats as stats"
   ]
  },
  {
   "cell_type": "code",
   "execution_count": null,
   "metadata": {},
   "outputs": [
    {
     "name": "stderr",
     "output_type": "stream",
     "text": [
      "C:\\Users\\ksk4uever\\Anaconda3\\lib\\site-packages\\IPython\\core\\interactiveshell.py:2728: DtypeWarning: Columns (48,77,84) have mixed types. Specify dtype option on import or set low_memory=False.\n",
      "  interactivity=interactivity, compiler=compiler, result=result)\n",
      "C:\\Users\\ksk4uever\\Anaconda3\\lib\\site-packages\\IPython\\core\\interactiveshell.py:2728: DtypeWarning: Columns (77) have mixed types. Specify dtype option on import or set low_memory=False.\n",
      "  interactivity=interactivity, compiler=compiler, result=result)\n",
      "C:\\Users\\ksk4uever\\Anaconda3\\lib\\site-packages\\IPython\\core\\interactiveshell.py:2728: DtypeWarning: Columns (48,69,76,77,84) have mixed types. Specify dtype option on import or set low_memory=False.\n",
      "  interactivity=interactivity, compiler=compiler, result=result)\n",
      "C:\\Users\\ksk4uever\\Anaconda3\\lib\\site-packages\\IPython\\core\\interactiveshell.py:2728: DtypeWarning: Columns (77,84) have mixed types. Specify dtype option on import or set low_memory=False.\n",
      "  interactivity=interactivity, compiler=compiler, result=result)\n"
     ]
    }
   ],
   "source": [
    "jan_2018_df = pd.read_csv(\"../Resources/Jan_2018.csv\")\n",
    "jan_2017_df = pd.read_csv(\"../Resources/Jan_2017.csv\")\n",
    "jan_2016_df = pd.read_csv(\"../Resources/Jan_2016.csv\")\n",
    "apr_2018_df = pd.read_csv(\"../Resources/Apr_2018.csv\")\n",
    "apr_2017_df = pd.read_csv(\"../Resources/Apr_2017.csv\")\n",
    "apr_2016_df = pd.read_csv(\"../Resources/Apr_2016.csv\")\n",
    "jul_2017_df = pd.read_csv(\"../Resources/July_2017.csv\")\n",
    "jul_2016_df = pd.read_csv(\"../Resources/July_2016.csv\")\n",
    "jul_2015_df = pd.read_csv(\"../Resources/July_2015.csv\")\n",
    "oct_2017_df = pd.read_csv(\"../Resources/Oct_2017.csv\")\n",
    "oct_2016_df = pd.read_csv(\"../Resources/Oct_2016.csv\")\n",
    "oct_2015_df = pd.read_csv(\"../Resources/Oct_2015.csv\")\n",
    "# master_stats_df =\n",
    "master_stats_df = jan_2018_df\n",
    "master_stats_df = master_stats_df.append(jan_2017_df)\n",
    "master_stats_df = master_stats_df.append(jan_2016_df)\n",
    "master_stats_df = master_stats_df.append(apr_2018_df)\n",
    "master_stats_df = master_stats_df.append(apr_2017_df)\n",
    "master_stats_df = master_stats_df.append(apr_2016_df)\n",
    "master_stats_df = master_stats_df.append(jul_2017_df)\n",
    "master_stats_df = master_stats_df.append(jul_2016_df)\n",
    "master_stats_df = master_stats_df.append(jul_2015_df)\n",
    "master_stats_df = master_stats_df.append(oct_2017_df)\n",
    "master_stats_df = master_stats_df.append(oct_2016_df)\n",
    "master_stats_df = master_stats_df.append(oct_2015_df)\n",
    "\n",
    "#master_stats_df = pd.read_csv(\"../Resources/Jan_2018.csv\")\n",
    "master_stats_df.fillna(value=0 , inplace=True)\n",
    "\n",
    "unique_carrier_list = master_stats_df[\"UniqueCarrier\"].unique()\n",
    "\n",
    "Delay_df = master_stats_df[master_stats_df.DepDelayMinutes > 0]\n",
    "beforetime_df = master_stats_df[master_stats_df.ArrDelay < 0]\n",
    "cancelled_flights_df = master_stats_df[master_stats_df.Cancelled > 0]\n",
    "diverted_flights_df = master_stats_df[master_stats_df.Diverted > 0]\n",
    "\n",
    "master_stats_df.head()"
   ]
  },
  {
   "cell_type": "code",
   "execution_count": null,
   "metadata": {},
   "outputs": [],
   "source": []
  }
 ],
 "metadata": {
  "kernelspec": {
   "display_name": "Python 3",
   "language": "python",
   "name": "python3"
  },
  "language_info": {
   "codemirror_mode": {
    "name": "ipython",
    "version": 3
   },
   "file_extension": ".py",
   "mimetype": "text/x-python",
   "name": "python",
   "nbconvert_exporter": "python",
   "pygments_lexer": "ipython3",
   "version": "3.6.4"
  },
  "varInspector": {
   "cols": {
    "lenName": 16,
    "lenType": 16,
    "lenVar": 40
   },
   "kernels_config": {
    "python": {
     "delete_cmd_postfix": "",
     "delete_cmd_prefix": "del ",
     "library": "var_list.py",
     "varRefreshCmd": "print(var_dic_list())"
    },
    "r": {
     "delete_cmd_postfix": ") ",
     "delete_cmd_prefix": "rm(",
     "library": "var_list.r",
     "varRefreshCmd": "cat(var_dic_list()) "
    }
   },
   "types_to_exclude": [
    "module",
    "function",
    "builtin_function_or_method",
    "instance",
    "_Feature"
   ],
   "window_display": false
  }
 },
 "nbformat": 4,
 "nbformat_minor": 2
}
