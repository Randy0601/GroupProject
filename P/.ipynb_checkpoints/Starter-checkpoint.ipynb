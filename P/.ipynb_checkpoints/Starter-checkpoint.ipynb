{
 "cells": [
  {
   "cell_type": "code",
   "execution_count": null,
   "metadata": {},
   "outputs": [],
   "source": [
    "# Dependencies\n",
    "import random\n",
    "import json\n",
    "import requests\n",
    "import pandas as pd\n",
    "import matplotlib.pyplot as plt\n",
    "import numpy as np\n",
    "import locale\n",
    "from locale import atof\n",
    "from pandas.plotting import scatter_matrix"
   ]
  },
  {
   "cell_type": "code",
   "execution_count": null,
   "metadata": {},
   "outputs": [],
   "source": [
    "master_stats_df = pd.read_csv('../Resources/Jan_2018.csv')\n",
    "master_stats_df.fillna(value=0 , inplace=True)\n",
    "\n",
    "unique_carrier_list = master_stats_df[\"UniqueCarrier\"].unique()\n",
    "\n",
    "Delay_df = master_stats_df[master_stats_df.DepDelayMinutes > 0]\n",
    "beforetime_df = master_stats_df[master_stats_df.ArrDelay < 0]\n",
    "cancelled_flights_df = master_stats_df[master_stats_df.Cancelled > 0]\n",
    "diverted_flights_df = master_stats_df[master_stats_df.Diverted > 0]\n",
    "#print(unique_carrier_list)\n",
    "Delay_df.count()\n",
    "\n",
    "print(master_stats_df.columns)"
   ]
  },
  {
   "cell_type": "code",
   "execution_count": null,
   "metadata": {},
   "outputs": [],
   "source": [
    "\n",
    "day_df=master_stats_df[[\"DepDelay\",\"ArrDelay\",\"AirTime\",\"Distance\",\"CarrierDelay\",\"WeatherDelay\"]].copy()\n",
    "new = old[['A', 'C', 'D']].copy()\n",
    "print(day_df.head())"
   ]
  },
  {
   "cell_type": "code",
   "execution_count": null,
   "metadata": {},
   "outputs": [],
   "source": [
    "\n",
    "def plot_scatter_matrix(df_in):\n",
    "    \"\"\"\"Plots a scatter matrix using pandas\n",
    "    params:\n",
    "    df_in = pandas frame to plot\n",
    "    \"\"\"\n",
    "    fig = plt.figure()\n",
    "    axes = scatter_matrix(df_in, alpha=0.2, figsize=(20, 20), diagonal='kde')\n",
    "\n",
    "    corr = df_in.corr().as_matrix()\n",
    "    for i, j in zip(*plt.np.triu_indices_from(axes, k=1)):\n",
    "        axes[i, j].annotate(\"%.3f\" %corr[i,j], (0.8, 0.8), xycoords='axes fraction', ha='center', va='center')\n",
    "\n",
    "    plt.text(10,2.55, \"Distribution data for Wednesday, January 7, 2015\", fontsize=22, ha=\"right\")    \n",
    "    \n",
    "    #save \n",
    "    plt.savefig('Flights_Fig1.png', dpi=300, bbox_inches=\"tight\")\n",
    "        \n",
    "    plt.show()\n",
    "    \n",
    "plot_scatter_matrix(day_df)\n"
   ]
  },
  {
   "cell_type": "code",
   "execution_count": null,
   "metadata": {},
   "outputs": [],
   "source": []
  },
  {
   "cell_type": "code",
   "execution_count": null,
   "metadata": {},
   "outputs": [],
   "source": [
    "carrier_group_df = master_stats_df.groupby(\"UniqueCarrier\")\n",
    "\n",
    "carrier_delay_group_df = Delay_df.groupby(\"UniqueCarrier\")\n",
    "#print(airline_group_df.count())\n",
    "carrier_total_delay_df = carrier_delay_group_df[\"DepDelayMinutes\"].sum()\n",
    "\n",
    "#carrier_total_delay_df"
   ]
  },
  {
   "cell_type": "code",
   "execution_count": null,
   "metadata": {},
   "outputs": [],
   "source": [
    "# Create a bar chart based off of the group series from before\n",
    "count_chart = carrier_total_delay_df.plot(kind='bar')\n",
    "\n",
    "# Set the xlabel and ylabel using class methods\n",
    "count_chart.set_xlabel(\"Carrier Codes\")\n",
    "count_chart.set_ylabel(\"Total Delay (Mins)\")\n",
    "\n",
    "plt.title(\"Total Delay (Mins) for each carrier\")\n",
    "plt.grid(axis='y')\n",
    "plt.show()\n",
    "plt.tight_layout()\n"
   ]
  },
  {
   "cell_type": "code",
   "execution_count": null,
   "metadata": {},
   "outputs": [],
   "source": [
    "carrier_delay_per  = []\n",
    "\n",
    "carrier_delay_per = [carrier_delay_group_df.get_group(carrier).size/carrier_group_df.get_group(carrier).size* 100 for carrier in unique_carrier_list]\n",
    "\n",
    "# print(unique_carrier_list)\n",
    "# print(carrier_delay_per)\n",
    "\n",
    "plt.bar(unique_carrier_list,carrier_delay_per)\n",
    "plt.xlabel(\"Carrier Codes\")\n",
    "plt.ylabel(\"Percent Delay (%)\")\n",
    "plt.xticks(rotation = 45)\n",
    "\n",
    "plt.title(\"Percent Delay for each carrier\")\n",
    "plt.grid(axis='y')\n",
    "plt.show()\n",
    "plt.tight_layout()\n",
    "plt.show()"
   ]
  },
  {
   "cell_type": "code",
   "execution_count": null,
   "metadata": {},
   "outputs": [],
   "source": [
    "plt.scatter(master_stats_df[\"Distance\"], master_stats_df[\"DepDelayMinutes\"],marker=\"o\", facecolors=\"red\", edgecolors=\"black\",alpha=0.75)\n",
    "plt.title(\"Flight Distance VS Delay\")\n",
    "plt.xlabel(\"Flight Distance (Miles)\")\n",
    "plt.ylabel(\"Flight Delay (Mins)\")\n",
    "plt.show()"
   ]
  },
  {
   "cell_type": "code",
   "execution_count": null,
   "metadata": {},
   "outputs": [],
   "source": []
  },
  {
   "cell_type": "code",
   "execution_count": null,
   "metadata": {},
   "outputs": [],
   "source": [
    "weekdays_df = Delay_df.groupby(\"DayOfWeek\")[\"DepDelayMinutes\"].sum()\n",
    "\n",
    "# Create a bar chart based off of the group series from before\n",
    "count_chart = weekdays_df.plot(kind='bar')\n",
    "\n",
    "# Set the xlabel and ylabel using class methods\n",
    "count_chart.set_xlabel(\"Days of Week\")\n",
    "count_chart.set_ylabel(\"Total Delay (Mins)\")\n",
    "\n",
    "plt.title(\"Total Delay (Mins) for each day of the week\")\n",
    "plt.grid(axis='y')\n",
    "plt.show()\n",
    "plt.tight_layout()"
   ]
  },
  {
   "cell_type": "code",
   "execution_count": null,
   "metadata": {},
   "outputs": [],
   "source": [
    "calendar_df = Delay_df.groupby(\"DayofMonth\")[\"DepDelayMinutes\"].sum()\n",
    "\n",
    "# Create a bar chart based off of the group series from before\n",
    "count_chart = calendar_df.plot(kind='bar')\n",
    "\n",
    "# Set the xlabel and ylabel using class methods\n",
    "count_chart.set_xlabel(\"Calendar Days\")\n",
    "count_chart.set_ylabel(\"Total Delay (Mins)\")\n",
    "\n",
    "plt.title(\"Total Delay (Mins) for each day of the Month\")\n",
    "plt.grid(axis='y')\n",
    "plt.show()\n",
    "plt.tight_layout()"
   ]
  },
  {
   "cell_type": "code",
   "execution_count": null,
   "metadata": {},
   "outputs": [],
   "source": [
    "\n",
    "dep_city_df = Delay_df.groupby(\"OriginState\")[\"DepDelayMinutes\"].sum()\n",
    "\n",
    "# Create a bar chart based off of the group series from before\n",
    "count_chart = dep_city_df.plot(kind='bar', figsize= (15,5))\n",
    "\n",
    "# Set the xlabel and ylabel using class methods\n",
    "count_chart.set_xlabel(\"Departure States\")\n",
    "count_chart.set_ylabel(\"Total Delay (Mins)\")\n",
    "\n",
    "plt.title(\"Total Delay (Mins) VS Departure States\")\n",
    "plt.grid(axis='y')\n",
    "plt.show()\n",
    "plt.tight_layout()\n"
   ]
  },
  {
   "cell_type": "code",
   "execution_count": null,
   "metadata": {},
   "outputs": [],
   "source": [
    "delay_reasons_df = Delay_df[[\"CarrierDelay\",\"WeatherDelay\",\"NASDelay\",\"SecurityDelay\",\"LateAircraftDelay\"]]\n",
    "delay_reasons_df.sum()\n",
    "\n",
    "count_chart = delay_reasons_df.sum().plot(kind='bar', figsize= (7,5))\n",
    "\n",
    "# Set the xlabel and ylabel using class methods\n",
    "count_chart.set_xlabel(\"Delay Reasons\")\n",
    "count_chart.set_ylabel(\"Total Delay (Mins)\")\n",
    "\n",
    "plt.title(\"Total Delay (Mins) VS Delay Reasons\")\n",
    "plt.grid(axis='y')\n",
    "plt.show()\n",
    "plt.tight_layout()"
   ]
  },
  {
   "cell_type": "code",
   "execution_count": null,
   "metadata": {
    "scrolled": true
   },
   "outputs": [],
   "source": [
    "dep_timeblk_df = Delay_df.groupby(\"DepTimeBlk\")[\"DepDelayMinutes\"].sum()\n",
    "\n",
    "# Create a bar chart based off of the group series from before\n",
    "count_chart = dep_timeblk_df.plot(kind='bar', figsize= (15,5))\n",
    "\n",
    "# Set the xlabel and ylabel using class methods\n",
    "count_chart.set_xlabel(\"Departure Time\")\n",
    "count_chart.set_ylabel(\"Total Delay (Mins)\")\n",
    "\n",
    "plt.title(\"Total Delay (Mins) VS Departure Time\")\n",
    "plt.grid(axis='y')\n",
    "plt.show()\n",
    "plt.tight_layout()"
   ]
  },
  {
   "cell_type": "code",
   "execution_count": null,
   "metadata": {},
   "outputs": [],
   "source": [
    "carrier_beforetime_group_df = beforetime_df.groupby(\"UniqueCarrier\")\n",
    "#print(airline_group_df.count())\n",
    "carrier_total_beforetime_df = carrier_beforetime_group_df[\"ArrDelay\"].sum()\n",
    "\n",
    "carrier_bt_per  = []\n",
    "\n",
    "carrier_bt_per = [carrier_beforetime_group_df.get_group(carrier).size/carrier_group_df.get_group(carrier).size* 100 for carrier in unique_carrier_list]\n",
    "\n",
    "# print(unique_carrier_list)\n",
    "# print(carrier_delay_per)\n",
    "\n",
    "plt.bar(unique_carrier_list,carrier_bt_per)\n",
    "plt.xlabel(\"Carrier Codes\")\n",
    "plt.ylabel(\"Percent BeforeTime (%)\")\n",
    "plt.xticks(rotation = 45)\n",
    "\n",
    "plt.title(\"Percent BeforeTime for each carrier\")\n",
    "plt.grid(axis='y')\n",
    "plt.show()\n",
    "plt.tight_layout()\n",
    "plt.show()"
   ]
  },
  {
   "cell_type": "code",
   "execution_count": null,
   "metadata": {
    "scrolled": true
   },
   "outputs": [],
   "source": [
    "carrier_cancelled_group_df = cancelled_flights_df.groupby(\"UniqueCarrier\")\n",
    "#print(airline_group_df.count())\n",
    "carrier_total_cancelled_df = carrier_cancelled_group_df[\"Cancelled\"].sum()\n",
    "\n",
    "count_chart = carrier_total_cancelled_df.plot(kind='bar')\n",
    "\n",
    "# Set the xlabel and ylabel using class methods\n",
    "count_chart.set_xlabel(\"Carrier Codes\")\n",
    "count_chart.set_ylabel(\"Cancelled Flights\")\n",
    "\n",
    "plt.title(\"Average Cancelled Flights for each carrier\")\n",
    "plt.grid(axis='y')\n",
    "plt.show()\n",
    "plt.tight_layout()"
   ]
  },
  {
   "cell_type": "code",
   "execution_count": null,
   "metadata": {},
   "outputs": [],
   "source": [
    "carrier_diverted_group_df = diverted_flights_df.groupby(\"UniqueCarrier\")\n",
    "#print(airline_group_df.count())\n",
    "carrier_total_diverted_df = carrier_diverted_group_df[\"Diverted\"].sum()\n",
    "\n",
    "count_chart = carrier_total_diverted_df.plot(kind='bar')\n",
    "\n",
    "# Set the xlabel and ylabel using class methods\n",
    "count_chart.set_xlabel(\"Carrier Codes\")\n",
    "count_chart.set_ylabel(\"Diverted Flights\")\n",
    "\n",
    "plt.title(\"Average Diverted Flights for each carrier\")\n",
    "plt.grid(axis='y')\n",
    "plt.show()\n",
    "plt.tight_layout()"
   ]
  },
  {
   "cell_type": "code",
   "execution_count": null,
   "metadata": {},
   "outputs": [],
   "source": [
    "master_stats_df.sort_values(by='ArrDelay', ascending=False)[:5]\n"
   ]
  },
  {
   "cell_type": "code",
   "execution_count": null,
   "metadata": {},
   "outputs": [],
   "source": [
    "master_stats_df['diffelapstime']=master_stats_df['CRSElapsedTime']-master_stats_df['ActualElapsedTime']\n",
    "master_stats_df.sort_values(by='diffelapstime', ascending=False)[:10]\n",
    "#master_stats_df[['diffelapstime','Diverted','Cancelled']][:120]"
   ]
  },
  {
   "cell_type": "code",
   "execution_count": null,
   "metadata": {},
   "outputs": [],
   "source": [
    "master_stats_df['delayed'] = master_stats_df['ArrDelay'].apply(lambda x: x > 0)\n",
    "#print (master_stats_df['ArrDelay'].apply(lambda x: x > 0))"
   ]
  },
  {
   "cell_type": "code",
   "execution_count": null,
   "metadata": {},
   "outputs": [],
   "source": [
    "print(master_stats_df['delayed'].value_counts())\n",
    "nde=master_stats_df['delayed'].value_counts()\n",
    "print(nde[0])\n",
    "print(nde[1])\n",
    "#master_stats_df.groupby('Origin').cout()\n",
    "#print(master_stats_df['delayed,'Origin'].head())\n",
    "dfd=master_stats_df[['delayed','Origin','ArrDelay']]\n",
    "table = dfd.groupby([\"Origin\",\"delayed\"]).size()\\\n",
    "          .unstack(fill_value=0)\\\n",
    "          .rename_axis(None, axis=1)\\\n",
    "          .reset_index()\n",
    "table.columns = ['Origin', 'False', 'True']\n",
    "per_list=list(table['True']/nde[1]  * 100)\n",
    "#print(per_list)\n",
    "#print(len(per_list))\n",
    "#print(table['Origin'])\n",
    "my_list = table[\"Origin\"].values\n",
    "#print(my_list)\n",
    "#print(len(my_list))\n",
    "matrix = np.matrix([my_list,per_list])\n",
    "df = pd.DataFrame(data=matrix)\n",
    "dfdd=df.T\n",
    "dfdd.columns=[\"Origin\", \"Percent\"]\n",
    "#print(dfdd)\n",
    "df2=pd.read_csv('airport.csv')\n",
    "print(df2.head())\n",
    "map_df=pd.merge(dfdd, df2, on=\"Origin\")\n",
    "map_df.to_csv('airport_loc.csv')\n",
    "#print(map_df.columns)"
   ]
  },
  {
   "cell_type": "code",
   "execution_count": null,
   "metadata": {},
   "outputs": [],
   "source": [
    "nd = master_stats_df['delayed'].value_counts()[0]\n",
    "print('not delayed = {}'.format(nd))\n",
    "d = master_stats_df['delayed'].value_counts()[1]\n",
    "tf = nd+d\n",
    "print ('Total flights = {}'.format(tf))\n",
    "pot=nd/float(tf)*100\n",
    "print ('Percent of on-time flights = {0:.1f}'.format(pot))"
   ]
  },
  {
   "cell_type": "code",
   "execution_count": null,
   "metadata": {},
   "outputs": [],
   "source": [
    "# Define the projection, scale, the corners of the map, and the resolution.\n",
    "from matplotlib import cm\n",
    "plt.figure(figsize=(12,8))\n",
    "m = Basemap(projection='merc',llcrnrlat=20,urcrnrlat=50,\\\n",
    "            llcrnrlon=-130,urcrnrlon=-60,lat_ts=10,resolution='c')\n",
    "m.drawcoastlines()\n",
    "m.drawcountries()\n",
    "#m.drawstates()\n",
    "# draw parallels and meridians.\n",
    "parallels = np.arange(20.,60.,10.)\n",
    "# Label the meridians and parallels\n",
    "m.drawparallels(parallels,labels=[False,True,True,False])\n",
    "# Draw Meridians and Labels\n",
    "meridians = np.arange(-130.,-100.,10.)\n",
    "m.drawmeridians(meridians,labels=[True,False,False,True])\n",
    "m.drawmapboundary(fill_color='white')\n",
    "plt.title(\"Continental Unites States (CONT) and Airport Delays \", fontsize=18)\n",
    "# Color the transformed points!\n",
    "lats,lons,names,percent = [],[],[],[]\n",
    "\n",
    "with open('airport_loc.csv') as csvfile:\n",
    "    reader = csv.DictReader(csvfile,delimiter=',')\n",
    "    for data in reader:\n",
    "        names.append(data['Origin'])\n",
    "        lats.append(float(data['Lat']))\n",
    "        lons.append(float(data['Long']))\n",
    "        percent.append(float(data['Percent']))\n",
    "        \n",
    "x,y =m(lons,lats)\n",
    "s = [n for n in range(len(percent))]\n",
    "\n",
    "plt.scatter(x,y,s=s)\n",
    "sc = plt.scatter(x,y, c=map_df['Percent'], vmin=0, vmax =1, cmap=cm.jet, s=s, edgecolors='none')# And let's include that colorbar\n",
    "cax = plt.axes([1.0, 0.2, 0.030, 0.6])\n",
    "clb=plt.colorbar(sc,cax=cax)\n",
    "clb.set_label('Percent Delay', fontsize=14 )\n",
    "plt.savefig(\"ww_temp_dist.png\", dpi = 100)\n",
    "plt.show()\n"
   ]
  },
  {
   "cell_type": "code",
   "execution_count": null,
   "metadata": {},
   "outputs": [],
   "source": []
  },
  {
   "cell_type": "code",
   "execution_count": null,
   "metadata": {},
   "outputs": [],
   "source": []
  },
  {
   "cell_type": "code",
   "execution_count": null,
   "metadata": {},
   "outputs": [],
   "source": []
  }
 ],
 "metadata": {
  "kernelspec": {
   "display_name": "Python 3",
   "language": "python",
   "name": "python3"
  },
  "language_info": {
   "codemirror_mode": {
    "name": "ipython",
    "version": 3
   },
   "file_extension": ".py",
   "mimetype": "text/x-python",
   "name": "python",
   "nbconvert_exporter": "python",
   "pygments_lexer": "ipython3",
   "version": "3.6.4"
  },
  "varInspector": {
   "cols": {
    "lenName": 16,
    "lenType": 16,
    "lenVar": 40
   },
   "kernels_config": {
    "python": {
     "delete_cmd_postfix": "",
     "delete_cmd_prefix": "del ",
     "library": "var_list.py",
     "varRefreshCmd": "print(var_dic_list())"
    },
    "r": {
     "delete_cmd_postfix": ") ",
     "delete_cmd_prefix": "rm(",
     "library": "var_list.r",
     "varRefreshCmd": "cat(var_dic_list()) "
    }
   },
   "types_to_exclude": [
    "module",
    "function",
    "builtin_function_or_method",
    "instance",
    "_Feature"
   ],
   "window_display": false
  }
 },
 "nbformat": 4,
 "nbformat_minor": 2
}
